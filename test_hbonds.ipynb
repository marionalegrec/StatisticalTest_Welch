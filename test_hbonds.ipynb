{
 "cells": [
  {
   "cell_type": "code",
   "execution_count": 1,
   "id": "85adfb29-5f9a-49d0-b107-9940482327f3",
   "metadata": {},
   "outputs": [
    {
     "name": "stdout",
     "output_type": "stream",
     "text": [
      "Checking path: /home/mariona/project/1-Apo-FRAP/Replica1/hbond_pp.xvg\n",
      "Checking path: /home/mariona/project/1-Apo-FRAP/Replica2/hbond_pp.xvg\n",
      "Checking path: /home/mariona/project/1-Apo-FRAP/Replica3/hbond_pp.xvg\n",
      "Checking path: /home/mariona/project/2-Frap-Lig/Replica1/hbond_pp.xvg\n",
      "Checking path: /home/mariona/project/2-Frap-Lig/Replica2/hbond_pp.xvg\n",
      "Checking path: /home/mariona/project/2-Frap-Lig/Replica3/hbond_pp.xvg\n"
     ]
    }
   ],
   "source": [
    "# DEFINE PATHS AND READ DATA\n",
    "import os\n",
    "import numpy as np\n",
    "\n",
    "def read_xvg(file_path):\n",
    "    \"\"\"\n",
    "    Reads an .xvg file and returns the data as a numpy array.\n",
    "    Assumes the file is formatted correctly.\n",
    "    \"\"\"\n",
    "    data = []\n",
    "    with open(file_path, 'r') as file:\n",
    "        for line in file:\n",
    "            if not line.startswith(('#', '@')):\n",
    "                values = line.split()\n",
    "                data.append([float(value) for value in values])\n",
    "    return np.array(data)\n",
    "\n",
    "# Base directories for the two conditions\n",
    "base_dir_protein = '/home/mariona/project/1-Apo-FRAP'\n",
    "base_dir_ternary = '/home/mariona/project/2-Frap-Lig'\n",
    "\n",
    "# Subdirectories for replicas\n",
    "replica_dirs = ['Replica1', 'Replica2', 'Replica3']\n",
    "\n",
    "# File name for the hydrogen bond data\n",
    "file_name = 'hbond_pp.xvg'\n",
    "\n",
    "# Function to get full file paths for a given base directory\n",
    "def get_file_paths(base_dir):\n",
    "    paths = [os.path.join(base_dir, replica_dir, file_name) for replica_dir in replica_dirs]\n",
    "    for path in paths:\n",
    "        print(f\"Checking path: {path}\")\n",
    "        if not os.path.exists(path):\n",
    "            print(f\"File not found: {path}\")\n",
    "    return paths\n",
    "\n",
    "# Get file paths for both conditions\n",
    "file_paths_protein = get_file_paths(base_dir_protein)\n",
    "file_paths_ternary = get_file_paths(base_dir_ternary)\n",
    "\n",
    "# Read the data from files\n",
    "data_protein = [read_xvg(file_path) for file_path in file_paths_protein if os.path.exists(file_path)]\n",
    "data_ternary = [read_xvg(file_path) for file_path in file_paths_ternary if os.path.exists(file_path)]"
   ]
  },
  {
   "cell_type": "code",
   "execution_count": 2,
   "id": "f1625c65-5410-4599-8a92-2421c5eccb0f",
   "metadata": {},
   "outputs": [
    {
     "name": "stdout",
     "output_type": "stream",
     "text": [
      "Means Protein: [83337.32040025866, 83337.74785837617, 83337.3316866996]\n",
      "Standard Deviations Protein: [144336.22764509937, 144335.98085769342, 144336.2211293799]\n",
      "Means Ternary: [83336.59820803584, 83337.21522902875, 83336.70315260362]\n",
      "Standard Deviations Ternary: [144336.64459952162, 144336.28836460118, 144336.58400929568]\n"
     ]
    }
   ],
   "source": [
    "# Calculate the MEAN and STANDARD DEVIATION for each replica\n",
    "means_protein = [np.mean(data) for data in data_protein]\n",
    "stds_protein = [np.std(data) for data in data_protein]\n",
    "\n",
    "means_ternary = [np.mean(data) for data in data_ternary]\n",
    "stds_ternary = [np.std(data) for data in data_ternary]\n",
    "    \n",
    "print(\"Means Protein:\", means_protein)\n",
    "print(\"Standard Deviations Protein:\", stds_protein)\n",
    "print(\"Means Ternary:\", means_ternary)\n",
    "print(\"Standard Deviations Ternary:\", stds_ternary)"
   ]
  },
  {
   "cell_type": "code",
   "execution_count": 3,
   "id": "0a8ea2ed-374a-4e17-8e9c-6bc1338f92ee",
   "metadata": {},
   "outputs": [
    {
     "name": "stdout",
     "output_type": "stream",
     "text": [
      "T-statistic: 2.650252487993983\n",
      "P-value: 0.062119630822666874\n",
      "Result: NOT SIGNIFICANT\n"
     ]
    }
   ],
   "source": [
    "# Perform the T-TEST and interpret the results\n",
    "from scipy.stats import ttest_ind\n",
    "\n",
    "# Perform Welch's t-test\n",
    "t_stat, p_val = ttest_ind(means_protein, means_ternary, equal_var=False)\n",
    "\n",
    "# Output the t-statistic and p-value\n",
    "print(f\"T-statistic: {t_stat}\")\n",
    "print(f\"P-value: {p_val}\")\n",
    "\n",
    "# Interpretation of the p-value\n",
    "if p_val < 0.05:\n",
    "    print(\"Result: SIGNIFICANT\")\n",
    "else:\n",
    "    print(\"Result: NOT SIGNIFICANT\")"
   ]
  },
  {
   "cell_type": "code",
   "execution_count": null,
   "id": "660cc6cb-a439-458b-aebd-caed6a1334c3",
   "metadata": {},
   "outputs": [],
   "source": []
  }
 ],
 "metadata": {
  "kernelspec": {
   "display_name": "Python 3 (ipykernel)",
   "language": "python",
   "name": "python3"
  },
  "language_info": {
   "codemirror_mode": {
    "name": "ipython",
    "version": 3
   },
   "file_extension": ".py",
   "mimetype": "text/x-python",
   "name": "python",
   "nbconvert_exporter": "python",
   "pygments_lexer": "ipython3",
   "version": "3.12.0"
  }
 },
 "nbformat": 4,
 "nbformat_minor": 5
}
