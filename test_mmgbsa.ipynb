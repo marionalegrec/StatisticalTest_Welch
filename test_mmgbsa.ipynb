{
 "cells": [
  {
   "cell_type": "code",
   "execution_count": 1,
   "id": "0223aaf1-1f39-4732-bc5f-f61c85add99f",
   "metadata": {},
   "outputs": [],
   "source": [
    "# Welch's t-test\n",
    "import numpy as np\n",
    "from scipy.stats import ttest_ind"
   ]
  },
  {
   "cell_type": "code",
   "execution_count": 2,
   "id": "0440184a-1343-4e0d-a341-821f55593728",
   "metadata": {},
   "outputs": [],
   "source": [
    "# Means and standard deviations for each case\n",
    "means_FKBP12 = np.array([-52.28, -51.20, -44.96])\n",
    "stds_FKBP12 = np.array([4.21, 3.75, 9.00])\n",
    "\n",
    "means_FRAP = np.array([-34.32, -35.62, -34.51])\n",
    "stds_FRAP = np.array([3.80, 2.98, 3.10])\n",
    "\n",
    "means_TERNARY = np.array([-67.24, -57.61, -58.60])\n",
    "stds_TERNARY = np.array([9.55, 7.80, 8.81])"
   ]
  },
  {
   "cell_type": "code",
   "execution_count": 3,
   "id": "9628028b-eddc-4e56-8e59-49c289dd2282",
   "metadata": {},
   "outputs": [],
   "source": [
    "# Number of replicas\n",
    "n_case_FKBP12 = len(means_FKBP12)\n",
    "n_case_FRAP = len(means_FRAP)\n",
    "n_case_TERNARY = len(means_TERNARY)"
   ]
  },
  {
   "cell_type": "code",
   "execution_count": 9,
   "id": "7b276ee4-8b89-496a-997f-3c725f8bdc78",
   "metadata": {},
   "outputs": [
    {
     "name": "stdout",
     "output_type": "stream",
     "text": [
      "T-statistic (FKBP12 - TERNARY): 3.0585285630253294\n",
      "P-value (FKBP12 - TERNARY): 0.04180118515559271\n",
      "Result: SIGNIFICANT\n"
     ]
    }
   ],
   "source": [
    "# Calculate the t-statistic and p-value: FKBP12 - TERNARY\n",
    "t_stat, p_val = ttest_ind(means_FKBP12, means_TERNARY, equal_var=False)\n",
    "\n",
    "print(f\"T-statistic (FKBP12 - TERNARY): {t_stat}\")\n",
    "print(f\"P-value (FKBP12 - TERNARY): {p_val}\")\n",
    "\n",
    "# Interpretation of the p-value\n",
    "if p_val < 0.05:\n",
    "    print(\"Result: SIGNIFICANT\")\n",
    "else:\n",
    "    print(\"Result: NOT SIGNIFICANT\")"
   ]
  },
  {
   "cell_type": "code",
   "execution_count": 10,
   "id": "e3060639-f75f-40da-b9ad-9c06e25ed47c",
   "metadata": {},
   "outputs": [
    {
     "name": "stdout",
     "output_type": "stream",
     "text": [
      "T-statistic (FRAP - TERNARY): 8.535559073193838\n",
      "P-value (FRAP - TERNARY): 0.012102528128431446\n",
      "Result: SIGNIFICANT\n"
     ]
    }
   ],
   "source": [
    "# Calculate the t-statistic and p-value: FRAP - TERNARY\n",
    "t_stat, p_val = ttest_ind(means_FRAP, means_TERNARY, equal_var=False)\n",
    "\n",
    "print(f\"T-statistic (FRAP - TERNARY): {t_stat}\")\n",
    "print(f\"P-value (FRAP - TERNARY): {p_val}\")\n",
    "\n",
    "# Interpretation of the p-value\n",
    "if p_val < 0.05:\n",
    "    print(\"Result: SIGNIFICANT\")\n",
    "else:\n",
    "    print(\"Result: NOT SIGNIFICANT\")"
   ]
  },
  {
   "cell_type": "code",
   "execution_count": null,
   "id": "a7002f09-f8ff-4643-b7ba-990275037cdd",
   "metadata": {},
   "outputs": [],
   "source": []
  }
 ],
 "metadata": {
  "kernelspec": {
   "display_name": "Python 3 (ipykernel)",
   "language": "python",
   "name": "python3"
  },
  "language_info": {
   "codemirror_mode": {
    "name": "ipython",
    "version": 3
   },
   "file_extension": ".py",
   "mimetype": "text/x-python",
   "name": "python",
   "nbconvert_exporter": "python",
   "pygments_lexer": "ipython3",
   "version": "3.12.0"
  }
 },
 "nbformat": 4,
 "nbformat_minor": 5
}
